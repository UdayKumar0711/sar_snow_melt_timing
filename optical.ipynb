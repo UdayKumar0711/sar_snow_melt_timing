{
 "cells": [
  {
   "cell_type": "code",
   "execution_count": null,
   "id": "7d580de3",
   "metadata": {},
   "outputs": [],
   "source": [
    "import stackstac\n",
    "import pystac\n",
    "import pystac_client\n",
    "import numpy as np\n",
    "import geopandas as gpd\n",
    "from datetime import datetime\n",
    "import os\n",
    "from dask.distributed import Client\n",
    "import dask.diagnostics\n",
    "import rioxarray\n",
    "import xarray as xr\n",
    "import matplotlib.pyplot as plt"
   ]
  },
  {
   "cell_type": "code",
   "execution_count": null,
   "id": "07a4a56f",
   "metadata": {},
   "outputs": [],
   "source": [
    "# MODIFY PARAMETERS\n",
    "\n",
    "#-------------------------------------------------------------------------\n",
    "# comment ONE of these out at a time\n",
    "#relative_orbit_number = 137 # change to get any particular relative orbit\n",
    "#orbit_direction = 'ascending' # 'ascending', descending', 'all'\n",
    "#-------------------------------------------------------------------------\n",
    "# define time slice\n",
    "today = datetime.today().strftime('%Y-%m-%d')\n",
    "time_slice = slice('2020-01-01','2020-12-31') # All of 2020\n",
    "#time_slice = slice('2017-01-01',today)\n",
    "#-------------------------------------------------------------------------\n",
    "# what months are represented with colors\n",
    "time_slice_display = slice('2020-02-01','2020-7-31')\n",
    "#-------------------------------------------------------------------------\n",
    "polarization ='gamma0_vv'\n",
    "#-------------------------------------------------------------------------\n",
    "bounding_box_gf = gpd.read_file('shapefiles/mt_rainier.geojson')\n",
    "#-------------------------------------------------------------------------\n",
    "rainier_glaciers = gpd.read_file('shapefiles/rainier_glaciers.geojson')\n",
    "#-------------------------------------------------------------------------\n",
    "cloud_cover_threshold = 20\n",
    "resample_freq = \"W\" # https://towardsdatascience.com/resample-function-of-pandas-79b17ec82a78\n",
    "shapefile_clip = True"
   ]
  },
  {
   "cell_type": "code",
   "execution_count": null,
   "id": "6ae497df",
   "metadata": {},
   "outputs": [],
   "source": [
    "# GDAL environment variables for better performance\n",
    "os.environ['AWS_REGION']='us-west-2'\n",
    "os.environ['GDAL_DISABLE_READDIR_ON_OPEN']='EMPTY_DIR' \n",
    "os.environ['AWS_NO_SIGN_REQUEST']='YES' "
   ]
  },
  {
   "cell_type": "code",
   "execution_count": null,
   "id": "82d60af7",
   "metadata": {},
   "outputs": [],
   "source": [
    "# Paste /proxy/localhost:8787 for cluster diagnostics\n",
    "client = Client(local_directory='/tmp', processes=False)"
   ]
  },
  {
   "cell_type": "code",
   "execution_count": null,
   "id": "aea2c470",
   "metadata": {},
   "outputs": [],
   "source": [
    "lower_lon, upper_lat, upper_lon, lower_lat = bounding_box_gf.bounds.values[0]\n",
    "lon = (lower_lon + upper_lon)/2\n",
    "lat = (lower_lat + upper_lat)/2"
   ]
  },
  {
   "cell_type": "code",
   "execution_count": null,
   "id": "1a8968e4",
   "metadata": {},
   "outputs": [],
   "source": [
    "URL = \"https://earth-search.aws.element84.com/v0\"\n",
    "catalog = pystac_client.Client.open(URL)"
   ]
  },
  {
   "cell_type": "code",
   "execution_count": null,
   "id": "7d0abe94",
   "metadata": {},
   "outputs": [],
   "source": [
    "items = catalog.search(\n",
    "    intersects=dict(type=\"Point\", coordinates=[lon, lat]),\n",
    "    collections=[\"sentinel-s2-l2a-cogs\"],\n",
    "    datetime=\"2010-01-01/2025-01-01\"\n",
    ").get_all_items()"
   ]
  },
  {
   "cell_type": "code",
   "execution_count": null,
   "id": "6d5a3bd7",
   "metadata": {},
   "outputs": [],
   "source": [
    "stack = stackstac.stack(items)\n",
    "xr.set_options(keep_attrs=True)\n",
    "stack"
   ]
  },
  {
   "cell_type": "code",
   "execution_count": null,
   "id": "99d75f91",
   "metadata": {},
   "outputs": [],
   "source": [
    "# import bounding box\n",
    "bounding_box_utm_gf = bounding_box_gf.to_crs(stack.crs)\n",
    "xmin, ymax, xmax, ymin = bounding_box_utm_gf.bounds.values[0]\n",
    "rainier_glaciers = rainier_glaciers.to_crs(stack.crs)"
   ]
  },
  {
   "cell_type": "code",
   "execution_count": null,
   "id": "dbe9dece",
   "metadata": {},
   "outputs": [],
   "source": [
    "lowcloud = stack[stack[\"eo:cloud_cover\"] < cloud_cover_threshold]\n",
    "\n",
    "#stack.sel(time=time_slice) 298 images for the year\n",
    "#lowcloud.sel(time=time_slice) 87 lowcloud days for the year"
   ]
  },
  {
   "cell_type": "code",
   "execution_count": null,
   "id": "54141df4",
   "metadata": {},
   "outputs": [],
   "source": [
    "# select bands\n",
    "rgb = lowcloud.sel(band=[\"B04\",\"B03\",\"B02\"])\n",
    "\n",
    "nir, red, vir, swir = lowcloud.sel(band=\"B08\"), lowcloud.sel(band=\"B04\"), lowcloud.sel(band=\"B03\"), lowcloud.sel(band=\"B11\")\n",
    "# NDVI is (B8-B4)/(B8+B4) https://sentinel.esa.int/web/sentinel/technical-guides/sentinel-2-msi/level-2a/algorithm\n",
    "ndvi = (nir-red)/(nir+red)\n",
    "# NDSI is (B3-B11)/(B3+B11) https://sentinel.esa.int/web/sentinel/technical-guides/sentinel-2-msi/level-2a/algorithm\n",
    "ndsi = (vir-swir)/(vir+swir)\n",
    "\n",
    "\n",
    "# SCL classifications https://www.sentinel-hub.com/faq/how-get-s2a-scene-classification-sentinel-2/\n",
    "scl = lowcloud.sel(band=\"SCL\")\n",
    "# look at preciptable water vapor? maybe something telling about melt / evaporation\n",
    "wvp = lowcloud.sel(band=\"WVP\")"
   ]
  },
  {
   "cell_type": "code",
   "execution_count": null,
   "id": "e29098f9",
   "metadata": {},
   "outputs": [],
   "source": [
    "scenes_rgb = rgb.sel(x=slice(xmin,xmax),y=slice(ymin,ymax)).sel(time=time_slice)\n",
    "scenes_ndvi = ndvi.sel(x=slice(xmin,xmax),y=slice(ymin,ymax)).sel(time=time_slice)\n",
    "scenes_ndsi = ndsi.sel(x=slice(xmin,xmax),y=slice(ymin,ymax)).sel(time=time_slice)"
   ]
  },
  {
   "cell_type": "code",
   "execution_count": null,
   "id": "ac0c26c7",
   "metadata": {},
   "outputs": [],
   "source": [
    "%%time\n",
    "frames_rgb_all = scenes_rgb.compute()\n",
    "frames_rgb = frames_rgb_all.dropna('time',how='all')"
   ]
  },
  {
   "cell_type": "code",
   "execution_count": null,
   "id": "0df7e183",
   "metadata": {},
   "outputs": [],
   "source": [
    "%%time\n",
    "frames_ndvi_all = scenes_ndvi.compute()\n",
    "frames_ndvi = frames_ndvi_all.dropna('time',how='all')"
   ]
  },
  {
   "cell_type": "code",
   "execution_count": null,
   "id": "b200e3d6",
   "metadata": {},
   "outputs": [],
   "source": [
    "%%time \n",
    "frames_ndsi_all = scenes_ndsi.compute()\n",
    "frames_ndsi = frames_ndsi_all.dropna('time',how='all')"
   ]
  },
  {
   "cell_type": "code",
   "execution_count": null,
   "id": "3beb1abd",
   "metadata": {
    "scrolled": false
   },
   "outputs": [],
   "source": [
    "frames_rgb.plot.imshow(col=\"time\", col_wrap = 5, rgb='band', robust=True);"
   ]
  },
  {
   "cell_type": "code",
   "execution_count": null,
   "id": "69defe03",
   "metadata": {
    "scrolled": false
   },
   "outputs": [],
   "source": [
    "frames_ndvi.plot.imshow(col=\"time\", col_wrap = 5, robust=True);"
   ]
  },
  {
   "cell_type": "code",
   "execution_count": null,
   "id": "86aa49be",
   "metadata": {
    "scrolled": false
   },
   "outputs": [],
   "source": [
    "frames_ndsi.plot.imshow(col=\"time\", col_wrap = 5, robust=True);"
   ]
  },
  {
   "cell_type": "code",
   "execution_count": null,
   "id": "d62a1ff6",
   "metadata": {},
   "outputs": [],
   "source": []
  },
  {
   "cell_type": "code",
   "execution_count": null,
   "id": "c9a196c7",
   "metadata": {},
   "outputs": [],
   "source": [
    "\n",
    "#if 'resample_freq' in locals():\n",
    "    #monthly = rgb.resample(time=\"MS\").median(\"time\", keep_attrs=True)\n",
    "#    resampled = lowcloud.resample(time=resample_freq).mean(\"time\", keep_attrs=True)\n",
    "#else:\n",
    "#    resampled = lowcloud"
   ]
  },
  {
   "cell_type": "code",
   "execution_count": null,
   "id": "b124917f",
   "metadata": {},
   "outputs": [],
   "source": [
    "if shapefile_clip == True:\n",
    "    rainier_glaciers = rainier_glaciers.to_crs(stack.crs)\n",
    "    frames_nis = frames_ndsi.rio.clip(rainier_glaciers[rainier_glaciers['Name'] == 'Nisqually Glacier WA'].geometry,rainier_glaciers.crs,drop=True,invert=False)\n",
    "    frames_emm = frames_ndsi.rio.clip(rainier_glaciers[rainier_glaciers['Name'] == 'Emmons Glacier WA'].geometry,rainier_glaciers.crs,drop=True,invert=False) \n",
    "    frames_car = frames_ndsi.rio.clip(rainier_glaciers[rainier_glaciers['Name'] == 'Carbon Glacier WA'].geometry,rainier_glaciers.crs,drop=True,invert=False) \n",
    "    frames_tah = frames_ndsi.rio.clip(rainier_glaciers[rainier_glaciers['Name'] == 'Tahoma Glacier WA'].geometry,rainier_glaciers.crs,drop=True,invert=False) \n",
    "    frames_named = frames_ndsi.rio.clip(rainier_glaciers.geometry,rainier_glaciers.crs,drop=False,invert=False)"
   ]
  },
  {
   "cell_type": "code",
   "execution_count": null,
   "id": "51c8701e",
   "metadata": {},
   "outputs": [],
   "source": [
    "# look for local min for melt timings\n",
    "f,ax = plt.subplots(figsize=(20,8))\n",
    "\n",
    "ax.plot(frames_ndsi.time,frames_ndsi.mean(dim=['x','y']),label='Entire Scene')\n",
    "ax.plot(frames_nis.time,frames_nis.mean(dim=['x','y']),label='Nisqually Glacier')\n",
    "ax.plot(frames_emm.time,frames_emm.mean(dim=['x','y']),label='Emmons Glacier')\n",
    "ax.plot(frames_car.time,frames_car.mean(dim=['x','y']),label='Carbon Glacier')\n",
    "ax.plot(frames_tah.time,frames_tah.mean(dim=['x','y']),label='Tahoma Glacier')\n",
    "ax.plot(frames_named.time,frames_named.mean(dim=['x','y']),label='All Glaciers')\n",
    "\n",
    "#ax2=ax.twinx()\n",
    "#snotel_df.plot.scatter(x='date_time_utc',y='value',ax=ax2,c='r',alpha=0.4,label='SWE')\n",
    "\n",
    "ax.set_xlim([time_slice.start,time_slice.stop])\n",
    "ax.legend()\n",
    "#ax2.legend(loc='upper right')\n",
    "#ax2.grid(False)\n",
    "#ax2.set_ylabel('Snow Water Equivalent [cm]')\n",
    "ax.set_ylabel('NDSI')\n",
    "\n",
    "ax.set_title(f'Sentinel2 NDSI Values \\nfor ({time_slice.start}, {time_slice.stop})')"
   ]
  },
  {
   "cell_type": "code",
   "execution_count": null,
   "id": "710674e9",
   "metadata": {},
   "outputs": [],
   "source": [
    "# train all S2 bands on SAR backscatter data? \n",
    "# rate at which NDSI dips proportional to debris?"
   ]
  },
  {
   "cell_type": "code",
   "execution_count": null,
   "id": "f07a9562",
   "metadata": {},
   "outputs": [],
   "source": [
    "frames_rgb = None\n",
    "frames_ndvi = None\n",
    "frames_ndsi = None\n",
    "\n",
    "frames_nis = None\n",
    "frames_emm = None\n",
    "frames_car = None\n",
    "frames_tah = None\n",
    "frames_named = None"
   ]
  },
  {
   "cell_type": "code",
   "execution_count": null,
   "id": "273b875c",
   "metadata": {},
   "outputs": [],
   "source": [
    "frames_rgb = None"
   ]
  },
  {
   "cell_type": "code",
   "execution_count": null,
   "id": "38b93157",
   "metadata": {},
   "outputs": [],
   "source": []
  },
  {
   "cell_type": "code",
   "execution_count": null,
   "id": "2fe2503f",
   "metadata": {},
   "outputs": [],
   "source": [
    "%%time\n",
    "scenes_all_bands = lowcloud.sel(band=['B02','B03','B04','B05','B06','B07','B08','B09','B11','B12']).sel(x=slice(xmin,xmax),y=slice(ymin,ymax)).sel(time=time_slice)\n",
    "frames_all_bands = scenes_all_bands.compute()"
   ]
  },
  {
   "cell_type": "code",
   "execution_count": null,
   "id": "f839b3e9",
   "metadata": {},
   "outputs": [],
   "source": [
    "f,ax = plt.subplots(figsize=(20,8))\n",
    "frames_all_bands = frames_all_bands.rio.clip(rainier_glaciers.geometry,rainier_glaciers.crs,drop=False,invert=False)\n",
    "ax.plot(frames_all_bands.time,frames_all_bands.mean(dim=['x','y']),label='Entire Scene')\n",
    "\n",
    "ax.set_xlim([time_slice.start,time_slice.stop])\n",
    "ax.legend()\n",
    "#ax2.legend(loc='upper right')\n",
    "#ax2.grid(False)\n",
    "#ax2.set_ylabel('Snow Water Equivalent [cm]')\n",
    "ax.set_ylabel('Reflectance')\n",
    "\n",
    "ax.set_title(f'Sentinel2 All Band \\nfor ({time_slice.start}, {time_slice.stop})')"
   ]
  },
  {
   "cell_type": "code",
   "execution_count": null,
   "id": "3a789c46",
   "metadata": {},
   "outputs": [],
   "source": []
  }
 ],
 "metadata": {
  "kernelspec": {
   "display_name": "Python [conda env:aws-rtc-stac2] *",
   "language": "python",
   "name": "conda-env-aws-rtc-stac2-py"
  },
  "language_info": {
   "codemirror_mode": {
    "name": "ipython",
    "version": 3
   },
   "file_extension": ".py",
   "mimetype": "text/x-python",
   "name": "python",
   "nbconvert_exporter": "python",
   "pygments_lexer": "ipython3",
   "version": "3.8.12"
  }
 },
 "nbformat": 4,
 "nbformat_minor": 5
}
