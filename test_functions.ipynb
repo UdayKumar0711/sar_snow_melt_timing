{
 "cells": [
  {
   "cell_type": "code",
   "execution_count": null,
   "id": "b0d0f62c-513e-4324-8809-76e45e72b61e",
   "metadata": {},
   "outputs": [],
   "source": []
  }
 ],
 "metadata": {
  "kernelspec": {
   "display_name": "Python [conda env:aws-rtc-stac2] *",
   "language": "python",
   "name": "conda-env-aws-rtc-stac2-py"
  },
  "language_info": {
   "codemirror_mode": {
    "name": "ipython",
    "version": 3
   },
   "file_extension": ".py",
   "mimetype": "text/x-python",
   "name": "python",
   "nbconvert_exporter": "python",
   "pygments_lexer": "ipython3",
   "version": "3.8.12"
  }
 },
 "nbformat": 4,
 "nbformat_minor": 5
}
