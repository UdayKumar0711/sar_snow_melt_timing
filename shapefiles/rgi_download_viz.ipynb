{
 "cells": [
  {
   "cell_type": "markdown",
   "metadata": {},
   "source": [
    "# Download RGI glacier shapefiles and plot those that are in our RoI"
   ]
  },
  {
   "cell_type": "code",
   "execution_count": 1,
   "metadata": {},
   "outputs": [],
   "source": [
    "import geopandas as gpd\n",
    "import os"
   ]
  },
  {
   "cell_type": "code",
   "execution_count": 2,
   "metadata": {},
   "outputs": [],
   "source": [
    "data_dir = \"rgi_data\""
   ]
  },
  {
   "cell_type": "code",
   "execution_count": 3,
   "metadata": {},
   "outputs": [
    {
     "name": "stdout",
     "output_type": "stream",
     "text": [
      "/home/eric/sar_snow_melt_timing/shapefiles/rgi_data\n",
      "/home/eric/sar_snow_melt_timing/shapefiles\n"
     ]
    }
   ],
   "source": [
    "!mkdir -p $data_dir\n",
    "%cd $data_dir\n",
    "if not os.path.exists('02_rgi60_WesternCanadaUS.zip'):\n",
    "    !wget -O 02_rgi60_WesternCanadaUS.zip https://www.glims.org/RGI/rgi60_files/02_rgi60_WesternCanadaUS.zip\n",
    "    !unzip 02_rgi60_WesternCanadaUS.zip\n",
    "%cd .."
   ]
  },
  {
   "cell_type": "code",
   "execution_count": 4,
   "metadata": {},
   "outputs": [],
   "source": [
    "# rgi60_gdf = gpd.read_file(\"shapefiles/02_rgi60_WesternCanadaUS.shp\")\n",
    "rgi60_gdf = gpd.read_file(f\"{data_dir}/02_rgi60_WesternCanadaUS.shp\")\n",
    "rainier_box = gpd.read_file('mt_rainier.geojson')"
   ]
  },
  {
   "cell_type": "code",
   "execution_count": null,
   "metadata": {},
   "outputs": [],
   "source": [
    "rainier_box"
   ]
  },
  {
   "cell_type": "code",
   "execution_count": null,
   "metadata": {},
   "outputs": [],
   "source": [
    "rainier_box.plot()"
   ]
  },
  {
   "cell_type": "code",
   "execution_count": null,
   "metadata": {},
   "outputs": [],
   "source": [
    "rainier_box.crs"
   ]
  },
  {
   "cell_type": "code",
   "execution_count": null,
   "metadata": {},
   "outputs": [],
   "source": [
    "rgi60_gdf.crs"
   ]
  },
  {
   "cell_type": "code",
   "execution_count": null,
   "metadata": {},
   "outputs": [],
   "source": [
    "rgi60_gdf.plot()"
   ]
  },
  {
   "cell_type": "code",
   "execution_count": null,
   "metadata": {},
   "outputs": [],
   "source": [
    "# wa_rgi60_gdf = rgi60_gdf[rgi60_gdf.within(rainier_box)].copy()\n",
    "wa_rgi60_gdf = rgi60_gdf[rgi60_gdf.intersects(rainier_box.loc[0, 'geometry'])]"
   ]
  },
  {
   "cell_type": "code",
   "execution_count": null,
   "metadata": {},
   "outputs": [],
   "source": [
    "wa_rgi60_gdf.plot(figsize=(8,8),cmap='tab20')"
   ]
  },
  {
   "cell_type": "code",
   "execution_count": null,
   "metadata": {},
   "outputs": [],
   "source": [
    "wa_rgi60_gdf"
   ]
  },
  {
   "cell_type": "code",
   "execution_count": null,
   "metadata": {},
   "outputs": [],
   "source": [
    "named_glaciers = wa_rgi60_gdf[wa_rgi60_gdf['Name'] != 'WA']"
   ]
  },
  {
   "cell_type": "code",
   "execution_count": null,
   "metadata": {},
   "outputs": [],
   "source": [
    "named_glaciers.columns"
   ]
  },
  {
   "cell_type": "code",
   "execution_count": null,
   "metadata": {},
   "outputs": [],
   "source": [
    "named_glaciers.to_file(\"rainier_glaciers.geojson\", driver='GeoJSON')"
   ]
  },
  {
   "cell_type": "code",
   "execution_count": null,
   "metadata": {},
   "outputs": [],
   "source": [
    "named_glaciers[named_glaciers['Name'] == 'Carbon Glacier WA']"
   ]
  },
  {
   "cell_type": "code",
   "execution_count": null,
   "metadata": {},
   "outputs": [],
   "source": [
    "south_facing_glaciers = named_glaciers[(named_glaciers['Aspect'] > 90) & (named_glaciers['Aspect'] < 270)]\n",
    "south_facing_glaciers.plot()"
   ]
  },
  {
   "cell_type": "code",
   "execution_count": null,
   "metadata": {},
   "outputs": [],
   "source": [
    "rainier_box.columns"
   ]
  },
  {
   "cell_type": "code",
   "execution_count": null,
   "metadata": {},
   "outputs": [],
   "source": [
    "rgi60_gdf.columns"
   ]
  },
  {
   "cell_type": "code",
   "execution_count": null,
   "metadata": {},
   "outputs": [],
   "source": [
    "wa_rgi60_gdf[wa_rgi60_gdf['Name'] == 'Kautz Glacier WA'].plot()"
   ]
  },
  {
   "cell_type": "code",
   "execution_count": null,
   "metadata": {},
   "outputs": [],
   "source": [
    "import matplotlib.pyplot as plt"
   ]
  },
  {
   "cell_type": "code",
   "execution_count": null,
   "metadata": {},
   "outputs": [],
   "source": [
    "glacier = wa_rgi60_gdf.iloc[[0]]\n",
    "glacier['Name'].item()"
   ]
  },
  {
   "cell_type": "markdown",
   "metadata": {},
   "source": [
    "## Plot all named glaciers so we can see their shapes in detail"
   ]
  },
  {
   "cell_type": "code",
   "execution_count": null,
   "metadata": {},
   "outputs": [],
   "source": [
    "cols = 5\n",
    "rows = len(named_glaciers) // cols \n",
    "\n",
    "f,ax=plt.subplots(nrows=rows,ncols=cols,figsize=(20,13))\n",
    "k=0\n",
    "for j in range(rows):\n",
    "    for i in range(cols):\n",
    "        glacier = named_glaciers.iloc[[k]]\n",
    "        glacier.plot(ax=ax[i,j])\n",
    "        title = glacier['Name'].item()\n",
    "        ax[i,j].set_title(title)\n",
    "        k = k + 1\n",
    "plt.tight_layout()"
   ]
  },
  {
   "cell_type": "code",
   "execution_count": null,
   "metadata": {},
   "outputs": [],
   "source": [
    "#sorted(named_glaciers['Name'])"
   ]
  },
  {
   "cell_type": "code",
   "execution_count": null,
   "metadata": {},
   "outputs": [],
   "source": [
    "#sorted(set(named_glaciers['Name'])) # Excluding \"WA\""
   ]
  },
  {
   "cell_type": "code",
   "execution_count": null,
   "metadata": {},
   "outputs": [],
   "source": []
  }
 ],
 "metadata": {
  "kernelspec": {
   "display_name": "Python 3 (ipykernel)",
   "language": "python",
   "name": "python3"
  },
  "language_info": {
   "codemirror_mode": {
    "name": "ipython",
    "version": 3
   },
   "file_extension": ".py",
   "mimetype": "text/x-python",
   "name": "python",
   "nbconvert_exporter": "python",
   "pygments_lexer": "ipython3",
   "version": "3.8.12"
  }
 },
 "nbformat": 4,
 "nbformat_minor": 4
}
