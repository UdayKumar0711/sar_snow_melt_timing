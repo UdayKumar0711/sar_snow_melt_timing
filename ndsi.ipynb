{
 "cells": [
  {
   "cell_type": "code",
   "execution_count": 8,
   "id": "7d580de3",
   "metadata": {},
   "outputs": [
    {
     "ename": "ModuleNotFoundError",
     "evalue": "No module named 'pystac_client'",
     "output_type": "error",
     "traceback": [
      "\u001b[0;31m---------------------------------------------------------------------------\u001b[0m",
      "\u001b[0;31mModuleNotFoundError\u001b[0m                       Traceback (most recent call last)",
      "\u001b[0;32m<ipython-input-8-d410bfa12b4d>\u001b[0m in \u001b[0;36m<module>\u001b[0;34m\u001b[0m\n\u001b[1;32m      1\u001b[0m \u001b[0;32mimport\u001b[0m \u001b[0mstackstac\u001b[0m\u001b[0;34m\u001b[0m\u001b[0;34m\u001b[0m\u001b[0m\n\u001b[1;32m      2\u001b[0m \u001b[0;32mimport\u001b[0m \u001b[0mpystac\u001b[0m\u001b[0;34m\u001b[0m\u001b[0;34m\u001b[0m\u001b[0m\n\u001b[0;32m----> 3\u001b[0;31m \u001b[0;32mimport\u001b[0m \u001b[0mpystac_client\u001b[0m\u001b[0;34m\u001b[0m\u001b[0;34m\u001b[0m\u001b[0m\n\u001b[0m\u001b[1;32m      4\u001b[0m \u001b[0;32mimport\u001b[0m \u001b[0mgeopandas\u001b[0m \u001b[0;32mas\u001b[0m \u001b[0mgpd\u001b[0m\u001b[0;34m\u001b[0m\u001b[0;34m\u001b[0m\u001b[0m\n\u001b[1;32m      5\u001b[0m \u001b[0;32mfrom\u001b[0m \u001b[0mdatetime\u001b[0m \u001b[0;32mimport\u001b[0m \u001b[0mdatetime\u001b[0m\u001b[0;34m\u001b[0m\u001b[0;34m\u001b[0m\u001b[0m\n",
      "\u001b[0;31mModuleNotFoundError\u001b[0m: No module named 'pystac_client'"
     ]
    }
   ],
   "source": [
    "import stackstac\n",
    "import pystac\n",
    "import geopandas as gpd\n",
    "from datetime import datetime"
   ]
  },
  {
   "cell_type": "code",
   "execution_count": 7,
   "id": "07a4a56f",
   "metadata": {},
   "outputs": [],
   "source": [
    "# MODIFY PARAMETERS\n",
    "\n",
    "#-------------------------------------------------------------------------\n",
    "# comment ONE of these out at a time\n",
    "#relative_orbit_number = 137 # change to get any particular relative orbit\n",
    "#orbit_direction = 'ascending' # 'ascending', descending', 'all'\n",
    "#-------------------------------------------------------------------------\n",
    "# define time slice\n",
    "today = datetime.today().strftime('%Y-%m-%d')\n",
    "time_slice = slice('2020-01-01','2020-12-31') # All of 2020\n",
    "#time_slice = slice('2017-01-01',today)\n",
    "#-------------------------------------------------------------------------\n",
    "# what months are represented with colors\n",
    "time_slice_display = slice('2020-02-01','2020-7-31')\n",
    "#-------------------------------------------------------------------------\n",
    "polarization ='gamma0_vv'\n",
    "#-------------------------------------------------------------------------\n",
    "bounding_box_gf = gpd.read_file('shapefiles/mt_rainier.geojson')\n",
    "#-------------------------------------------------------------------------\n",
    "rainier_glaciers = gpd.read_file('shapefiles/rainier_glaciers.geojson')\n",
    "#-------------------------------------------------------------------------\n",
    "#shapefile_clip = True"
   ]
  },
  {
   "cell_type": "code",
   "execution_count": null,
   "id": "aea2c470",
   "metadata": {},
   "outputs": [],
   "source": [
    "pystac.ItemCollection.from_dict"
   ]
  },
  {
   "cell_type": "code",
   "execution_count": null,
   "id": "1a8968e4",
   "metadata": {},
   "outputs": [],
   "source": [
    "URL = \"https://earth-search.aws.element84.com/v0\"\n",
    "catalog = pystac_client.Client.open(URL)"
   ]
  },
  {
   "cell_type": "code",
   "execution_count": null,
   "id": "7d0abe94",
   "metadata": {},
   "outputs": [],
   "source": [
    "%%time\n",
    "items = catalog.search(\n",
    "    intersects=dict(type=\"Point\", coordinates=[lon, lat]),\n",
    "    collections=[\"sentinel-s2-l2a-cogs\"],\n",
    "    datetime=\"2020-04-01/2020-05-01\"\n",
    ").get_all_items()\n",
    "len(items)"
   ]
  },
  {
   "cell_type": "code",
   "execution_count": null,
   "id": "6d5a3bd7",
   "metadata": {},
   "outputs": [],
   "source": [
    "%time\n",
    "stack = stackstac.stack(items)\n",
    "stack"
   ]
  },
  {
   "cell_type": "code",
   "execution_count": null,
   "id": "dbe9dece",
   "metadata": {},
   "outputs": [],
   "source": [
    "lowcloud = stack[stack[\"eo:cloud_cover\"] < 20]\n",
    "rgb = lowcloud.sel(band=[\"B04\", \"B03\", \"B02\"])\n",
    "monthly = rgb.resample(time=\"MS\").median(\"time\", keep_attrs=True)"
   ]
  },
  {
   "cell_type": "code",
   "execution_count": null,
   "id": "54141df4",
   "metadata": {},
   "outputs": [],
   "source": []
  }
 ],
 "metadata": {
  "kernelspec": {
   "display_name": "Python [conda env:aws-rtc-stac2] *",
   "language": "python",
   "name": "conda-env-aws-rtc-stac2-py"
  },
  "language_info": {
   "codemirror_mode": {
    "name": "ipython",
    "version": 3
   },
   "file_extension": ".py",
   "mimetype": "text/x-python",
   "name": "python",
   "nbconvert_exporter": "python",
   "pygments_lexer": "ipython3",
   "version": "3.8.12"
  }
 },
 "nbformat": 4,
 "nbformat_minor": 5
}
